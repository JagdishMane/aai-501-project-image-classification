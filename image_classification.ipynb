{
 "cells": [
  {
   "cell_type": "markdown",
   "id": "228f31e3-ab98-4a0c-b92c-a3bc2018c6a1",
   "metadata": {},
   "source": [
    "# Image Classifier project"
   ]
  },
  {
   "cell_type": "markdown",
   "id": "6bf2bfe8-4b23-465b-be3f-1b32d1771f46",
   "metadata": {},
   "source": [
    "Project to identify if the image i"
   ]
  },
  {
   "cell_type": "markdown",
   "id": "87f0e5c4-ae62-402b-8b01-e445702f8031",
   "metadata": {},
   "source": [
    "# Install Dependecies"
   ]
  },
  {
   "cell_type": "code",
   "execution_count": 1,
   "id": "cead16b9-015b-4ccb-b334-84cd433142d2",
   "metadata": {},
   "outputs": [
    {
     "name": "stdout",
     "output_type": "stream",
     "text": [
      "Requirement already satisfied: pip in d:\\tech\\ai\\envs\\img-env\\lib\\site-packages (25.1.1)\n",
      "Collecting pip\n",
      "  Downloading pip-25.2-py3-none-any.whl.metadata (4.7 kB)\n",
      "Requirement already satisfied: setuptools in d:\\tech\\ai\\envs\\img-env\\lib\\site-packages (80.9.0)\n",
      "Requirement already satisfied: wheel in d:\\tech\\ai\\envs\\img-env\\lib\\site-packages (0.45.1)\n",
      "Requirement already satisfied: packaging in d:\\tech\\ai\\envs\\img-env\\lib\\site-packages (25.0)\n",
      "Downloading pip-25.2-py3-none-any.whl (1.8 MB)\n",
      "   ---------------------------------------- 0.0/1.8 MB ? eta -:--:--\n",
      "   ----------------------------------- ---- 1.6/1.8 MB 9.4 MB/s eta 0:00:01\n",
      "   ---------------------------------------- 1.8/1.8 MB 6.8 MB/s eta 0:00:00\n",
      "Installing collected packages: pip\n",
      "  Attempting uninstall: pip\n",
      "    Found existing installation: pip 25.1.1\n",
      "    Uninstalling pip-25.1.1:\n",
      "      Successfully uninstalled pip-25.1.1\n",
      "Successfully installed pip-25.2\n",
      "Requirement already satisfied: tensorflow in d:\\tech\\ai\\envs\\img-env\\lib\\site-packages (2.19.0)\n",
      "Requirement already satisfied: opencv-python in d:\\tech\\ai\\envs\\img-env\\lib\\site-packages (4.12.0.88)\n",
      "Requirement already satisfied: matplotlib in d:\\tech\\ai\\envs\\img-env\\lib\\site-packages (3.9.4)\n",
      "Requirement already satisfied: absl-py>=1.0.0 in d:\\tech\\ai\\envs\\img-env\\lib\\site-packages (from tensorflow) (2.3.1)\n",
      "Requirement already satisfied: astunparse>=1.6.0 in d:\\tech\\ai\\envs\\img-env\\lib\\site-packages (from tensorflow) (1.6.3)\n",
      "Requirement already satisfied: flatbuffers>=24.3.25 in d:\\tech\\ai\\envs\\img-env\\lib\\site-packages (from tensorflow) (25.2.10)\n",
      "Requirement already satisfied: gast!=0.5.0,!=0.5.1,!=0.5.2,>=0.2.1 in d:\\tech\\ai\\envs\\img-env\\lib\\site-packages (from tensorflow) (0.6.0)\n",
      "Requirement already satisfied: google-pasta>=0.1.1 in d:\\tech\\ai\\envs\\img-env\\lib\\site-packages (from tensorflow) (0.2.0)\n",
      "Requirement already satisfied: libclang>=13.0.0 in d:\\tech\\ai\\envs\\img-env\\lib\\site-packages (from tensorflow) (18.1.1)\n",
      "Requirement already satisfied: opt-einsum>=2.3.2 in d:\\tech\\ai\\envs\\img-env\\lib\\site-packages (from tensorflow) (3.4.0)\n",
      "Requirement already satisfied: packaging in d:\\tech\\ai\\envs\\img-env\\lib\\site-packages (from tensorflow) (25.0)\n",
      "Requirement already satisfied: protobuf!=4.21.0,!=4.21.1,!=4.21.2,!=4.21.3,!=4.21.4,!=4.21.5,<6.0.0dev,>=3.20.3 in d:\\tech\\ai\\envs\\img-env\\lib\\site-packages (from tensorflow) (5.29.5)\n",
      "Requirement already satisfied: requests<3,>=2.21.0 in d:\\tech\\ai\\envs\\img-env\\lib\\site-packages (from tensorflow) (2.32.4)\n",
      "Requirement already satisfied: setuptools in d:\\tech\\ai\\envs\\img-env\\lib\\site-packages (from tensorflow) (80.9.0)\n",
      "Requirement already satisfied: six>=1.12.0 in d:\\tech\\ai\\envs\\img-env\\lib\\site-packages (from tensorflow) (1.17.0)\n",
      "Requirement already satisfied: termcolor>=1.1.0 in d:\\tech\\ai\\envs\\img-env\\lib\\site-packages (from tensorflow) (3.1.0)\n",
      "Requirement already satisfied: typing-extensions>=3.6.6 in d:\\tech\\ai\\envs\\img-env\\lib\\site-packages (from tensorflow) (4.12.2)\n",
      "Requirement already satisfied: wrapt>=1.11.0 in d:\\tech\\ai\\envs\\img-env\\lib\\site-packages (from tensorflow) (1.17.2)\n",
      "Requirement already satisfied: grpcio<2.0,>=1.24.3 in d:\\tech\\ai\\envs\\img-env\\lib\\site-packages (from tensorflow) (1.73.1)\n",
      "Requirement already satisfied: tensorboard~=2.19.0 in d:\\tech\\ai\\envs\\img-env\\lib\\site-packages (from tensorflow) (2.19.0)\n",
      "Requirement already satisfied: keras>=3.5.0 in d:\\tech\\ai\\envs\\img-env\\lib\\site-packages (from tensorflow) (3.10.0)\n",
      "Requirement already satisfied: numpy<2.2.0,>=1.26.0 in d:\\tech\\ai\\envs\\img-env\\lib\\site-packages (from tensorflow) (2.0.2)\n",
      "Requirement already satisfied: h5py>=3.11.0 in d:\\tech\\ai\\envs\\img-env\\lib\\site-packages (from tensorflow) (3.14.0)\n",
      "Requirement already satisfied: ml-dtypes<1.0.0,>=0.5.1 in d:\\tech\\ai\\envs\\img-env\\lib\\site-packages (from tensorflow) (0.5.1)\n",
      "Requirement already satisfied: tensorflow-io-gcs-filesystem>=0.23.1 in d:\\tech\\ai\\envs\\img-env\\lib\\site-packages (from tensorflow) (0.31.0)\n",
      "Requirement already satisfied: charset_normalizer<4,>=2 in d:\\tech\\ai\\envs\\img-env\\lib\\site-packages (from requests<3,>=2.21.0->tensorflow) (3.3.2)\n",
      "Requirement already satisfied: idna<4,>=2.5 in d:\\tech\\ai\\envs\\img-env\\lib\\site-packages (from requests<3,>=2.21.0->tensorflow) (3.7)\n",
      "Requirement already satisfied: urllib3<3,>=1.21.1 in d:\\tech\\ai\\envs\\img-env\\lib\\site-packages (from requests<3,>=2.21.0->tensorflow) (2.5.0)\n",
      "Requirement already satisfied: certifi>=2017.4.17 in d:\\tech\\ai\\envs\\img-env\\lib\\site-packages (from requests<3,>=2.21.0->tensorflow) (2025.6.15)\n",
      "Requirement already satisfied: markdown>=2.6.8 in d:\\tech\\ai\\envs\\img-env\\lib\\site-packages (from tensorboard~=2.19.0->tensorflow) (3.8.2)\n",
      "Requirement already satisfied: tensorboard-data-server<0.8.0,>=0.7.0 in d:\\tech\\ai\\envs\\img-env\\lib\\site-packages (from tensorboard~=2.19.0->tensorflow) (0.7.2)\n",
      "Requirement already satisfied: werkzeug>=1.0.1 in d:\\tech\\ai\\envs\\img-env\\lib\\site-packages (from tensorboard~=2.19.0->tensorflow) (3.1.3)\n",
      "Requirement already satisfied: contourpy>=1.0.1 in d:\\tech\\ai\\envs\\img-env\\lib\\site-packages (from matplotlib) (1.3.0)\n",
      "Requirement already satisfied: cycler>=0.10 in d:\\tech\\ai\\envs\\img-env\\lib\\site-packages (from matplotlib) (0.12.1)\n",
      "Requirement already satisfied: fonttools>=4.22.0 in d:\\tech\\ai\\envs\\img-env\\lib\\site-packages (from matplotlib) (4.58.5)\n",
      "Requirement already satisfied: kiwisolver>=1.3.1 in d:\\tech\\ai\\envs\\img-env\\lib\\site-packages (from matplotlib) (1.4.7)\n",
      "Requirement already satisfied: pillow>=8 in d:\\tech\\ai\\envs\\img-env\\lib\\site-packages (from matplotlib) (11.3.0)\n",
      "Requirement already satisfied: pyparsing>=2.3.1 in d:\\tech\\ai\\envs\\img-env\\lib\\site-packages (from matplotlib) (3.2.3)\n",
      "Requirement already satisfied: python-dateutil>=2.7 in d:\\tech\\ai\\envs\\img-env\\lib\\site-packages (from matplotlib) (2.9.0.post0)\n",
      "Requirement already satisfied: importlib-resources>=3.2.0 in d:\\tech\\ai\\envs\\img-env\\lib\\site-packages (from matplotlib) (6.5.2)\n",
      "Requirement already satisfied: wheel<1.0,>=0.23.0 in d:\\tech\\ai\\envs\\img-env\\lib\\site-packages (from astunparse>=1.6.0->tensorflow) (0.45.1)\n",
      "Requirement already satisfied: zipp>=3.1.0 in d:\\tech\\ai\\envs\\img-env\\lib\\site-packages (from importlib-resources>=3.2.0->matplotlib) (3.21.0)\n",
      "Requirement already satisfied: rich in d:\\tech\\ai\\envs\\img-env\\lib\\site-packages (from keras>=3.5.0->tensorflow) (14.0.0)\n",
      "Requirement already satisfied: namex in d:\\tech\\ai\\envs\\img-env\\lib\\site-packages (from keras>=3.5.0->tensorflow) (0.1.0)\n",
      "Requirement already satisfied: optree in d:\\tech\\ai\\envs\\img-env\\lib\\site-packages (from keras>=3.5.0->tensorflow) (0.16.0)\n",
      "Requirement already satisfied: importlib-metadata>=4.4 in d:\\tech\\ai\\envs\\img-env\\lib\\site-packages (from markdown>=2.6.8->tensorboard~=2.19.0->tensorflow) (8.5.0)\n",
      "Requirement already satisfied: MarkupSafe>=2.1.1 in d:\\tech\\ai\\envs\\img-env\\lib\\site-packages (from werkzeug>=1.0.1->tensorboard~=2.19.0->tensorflow) (3.0.2)\n",
      "Requirement already satisfied: markdown-it-py>=2.2.0 in d:\\tech\\ai\\envs\\img-env\\lib\\site-packages (from rich->keras>=3.5.0->tensorflow) (3.0.0)\n",
      "Requirement already satisfied: pygments<3.0.0,>=2.13.0 in d:\\tech\\ai\\envs\\img-env\\lib\\site-packages (from rich->keras>=3.5.0->tensorflow) (2.19.1)\n",
      "Requirement already satisfied: mdurl~=0.1 in d:\\tech\\ai\\envs\\img-env\\lib\\site-packages (from markdown-it-py>=2.2.0->rich->keras>=3.5.0->tensorflow) (0.1.2)\n"
     ]
    }
   ],
   "source": [
    "import sys\n",
    "!{sys.executable} -m pip install --upgrade pip setuptools wheel packaging\n",
    "!{sys.executable} -m pip install tensorflow opencv-python matplotlib"
   ]
  },
  {
   "cell_type": "markdown",
   "id": "43752b8e-7bdf-4ea8-93ce-55fc86a90dce",
   "metadata": {},
   "source": [
    "## Import python libraries"
   ]
  },
  {
   "cell_type": "code",
   "execution_count": 11,
   "id": "c8ca059b-2261-4b53-8e80-47135cc648e4",
   "metadata": {},
   "outputs": [],
   "source": [
    "import tensorflow as tf\n",
    "import os\n",
    "\n",
    "## To Check number of gpus available\n",
    "# gpus = tf.config.experimental.list_physical_devices('GPU')\n",
    "# print(gpus)"
   ]
  },
  {
   "cell_type": "code",
   "execution_count": 12,
   "id": "9eeed4b3-c545-4764-bb40-9a084636a8a1",
   "metadata": {},
   "outputs": [
    {
     "name": "stdout",
     "output_type": "stream",
     "text": [
      "Found 252 images belonging to 2 classes.\n",
      "Found 63 images belonging to 2 classes.\n"
     ]
    },
    {
     "name": "stderr",
     "output_type": "stream",
     "text": [
      "D:\\TECH\\AI\\envs\\img-env\\lib\\site-packages\\keras\\src\\trainers\\data_adapters\\py_dataset_adapter.py:121: UserWarning: Your `PyDataset` class should call `super().__init__(**kwargs)` in its constructor. `**kwargs` can include `workers`, `use_multiprocessing`, `max_queue_size`. Do not pass these arguments to `fit()`, as they will be ignored.\n",
      "  self._warn_if_super_not_called()\n"
     ]
    },
    {
     "name": "stdout",
     "output_type": "stream",
     "text": [
      "Epoch 1/10\n",
      "\u001b[1m8/8\u001b[0m \u001b[32m━━━━━━━━━━━━━━━━━━━━\u001b[0m\u001b[37m\u001b[0m \u001b[1m14s\u001b[0m 1s/step - accuracy: 0.5289 - loss: 0.7551 - val_accuracy: 0.5238 - val_loss: 0.6509\n",
      "Epoch 2/10\n",
      "\u001b[1m8/8\u001b[0m \u001b[32m━━━━━━━━━━━━━━━━━━━━\u001b[0m\u001b[37m\u001b[0m \u001b[1m6s\u001b[0m 734ms/step - accuracy: 0.5956 - loss: 0.6323 - val_accuracy: 0.6984 - val_loss: 0.6088\n",
      "Epoch 3/10\n",
      "\u001b[1m8/8\u001b[0m \u001b[32m━━━━━━━━━━━━━━━━━━━━\u001b[0m\u001b[37m\u001b[0m \u001b[1m7s\u001b[0m 902ms/step - accuracy: 0.7100 - loss: 0.5523 - val_accuracy: 0.7460 - val_loss: 0.5679\n",
      "Epoch 4/10\n",
      "\u001b[1m8/8\u001b[0m \u001b[32m━━━━━━━━━━━━━━━━━━━━\u001b[0m\u001b[37m\u001b[0m \u001b[1m7s\u001b[0m 958ms/step - accuracy: 0.8168 - loss: 0.4614 - val_accuracy: 0.7619 - val_loss: 0.4642\n",
      "Epoch 5/10\n",
      "\u001b[1m8/8\u001b[0m \u001b[32m━━━━━━━━━━━━━━━━━━━━\u001b[0m\u001b[37m\u001b[0m \u001b[1m7s\u001b[0m 924ms/step - accuracy: 0.8403 - loss: 0.3983 - val_accuracy: 0.7460 - val_loss: 0.4450\n",
      "Epoch 6/10\n",
      "\u001b[1m8/8\u001b[0m \u001b[32m━━━━━━━━━━━━━━━━━━━━\u001b[0m\u001b[37m\u001b[0m \u001b[1m6s\u001b[0m 808ms/step - accuracy: 0.8155 - loss: 0.3973 - val_accuracy: 0.7937 - val_loss: 0.4001\n",
      "Epoch 7/10\n",
      "\u001b[1m8/8\u001b[0m \u001b[32m━━━━━━━━━━━━━━━━━━━━\u001b[0m\u001b[37m\u001b[0m \u001b[1m7s\u001b[0m 857ms/step - accuracy: 0.9296 - loss: 0.2903 - val_accuracy: 0.8413 - val_loss: 0.3495\n",
      "Epoch 8/10\n",
      "\u001b[1m8/8\u001b[0m \u001b[32m━━━━━━━━━━━━━━━━━━━━\u001b[0m\u001b[37m\u001b[0m \u001b[1m6s\u001b[0m 863ms/step - accuracy: 0.9157 - loss: 0.2259 - val_accuracy: 0.8413 - val_loss: 0.3616\n",
      "Epoch 9/10\n",
      "\u001b[1m8/8\u001b[0m \u001b[32m━━━━━━━━━━━━━━━━━━━━\u001b[0m\u001b[37m\u001b[0m \u001b[1m11s\u001b[0m 938ms/step - accuracy: 0.9751 - loss: 0.1543 - val_accuracy: 0.8254 - val_loss: 0.3680\n",
      "Epoch 10/10\n",
      "\u001b[1m8/8\u001b[0m \u001b[32m━━━━━━━━━━━━━━━━━━━━\u001b[0m\u001b[37m\u001b[0m \u001b[1m6s\u001b[0m 822ms/step - accuracy: 0.9739 - loss: 0.1278 - val_accuracy: 0.8730 - val_loss: 0.2617\n"
     ]
    }
   ],
   "source": [
    "import tensorflow as tf\n",
    "from tensorflow.keras.preprocessing.image import ImageDataGenerator\n",
    "\n",
    "# Load and preprocess dataset\n",
    "datagen = ImageDataGenerator(rescale=1./255, validation_split=0.2)\n",
    "\n",
    "train_data = datagen.flow_from_directory(\n",
    "    'images',\n",
    "    target_size=(64, 64),\n",
    "    batch_size=32,\n",
    "    class_mode='binary',\n",
    "    subset='training'\n",
    ")\n",
    "\n",
    "val_data = datagen.flow_from_directory(\n",
    "    'images',\n",
    "    target_size=(64, 64),\n",
    "    batch_size=32,\n",
    "    class_mode='binary',\n",
    "    subset='validation'\n",
    ")\n",
    "\n",
    "# Define a small CNN\n",
    "model = tf.keras.models.Sequential([\n",
    "    tf.keras.Input(shape=(64, 64, 3)),\n",
    "    tf.keras.layers.Conv2D(32, (3,3), activation='relu'),\n",
    "    tf.keras.layers.MaxPooling2D(2, 2),\n",
    "    \n",
    "    tf.keras.layers.Conv2D(64, (3,3), activation='relu'),\n",
    "    tf.keras.layers.MaxPooling2D(2, 2),\n",
    "\n",
    "    tf.keras.layers.Flatten(),\n",
    "    tf.keras.layers.Dense(64, activation='relu'),\n",
    "    tf.keras.layers.Dense(1, activation='sigmoid')  # Binary classification\n",
    "])\n",
    "\n",
    "model.compile(optimizer='adam', loss='binary_crossentropy', metrics=['accuracy'])\n",
    "\n",
    "# Train the model\n",
    "model.fit(train_data, validation_data=val_data, epochs=10)\n",
    "\n",
    "# Save model\n",
    "model.save(\"happy_sad_model.keras\")\n",
    "\n"
   ]
  },
  {
   "cell_type": "code",
   "execution_count": 17,
   "id": "a4f7c5a1-9282-426d-b398-268141b1ac3c",
   "metadata": {},
   "outputs": [
    {
     "name": "stdout",
     "output_type": "stream",
     "text": [
      "\u001b[1m1/1\u001b[0m \u001b[32m━━━━━━━━━━━━━━━━━━━━\u001b[0m\u001b[37m\u001b[0m \u001b[1m0s\u001b[0m 154ms/step\n",
      "Happy\n",
      "0.97194505\n"
     ]
    }
   ],
   "source": [
    "from tensorflow.keras.models import load_model\n",
    "from tensorflow.keras.preprocessing import image\n",
    "import numpy as np\n",
    "\n",
    "model = load_model(\"happy_sad_model.keras\")\n",
    "\n",
    "img_path = \"input/504212.jpg\"\n",
    "img = image.load_img(img_path, target_size=(64, 64))\n",
    "img_array = image.img_to_array(img) / 255.0\n",
    "img_array = np.expand_dims(img_array, axis=0)\n",
    "\n",
    "prediction = model.predict(img_array)\n",
    "print(\"Happy\" if prediction[0][0] > 0.5 else \"Sad\")\n",
    "print(prediction[0][0])"
   ]
  },
  {
   "cell_type": "code",
   "execution_count": null,
   "id": "cb0d1650-ad41-4205-9c45-aaee3e9a88f2",
   "metadata": {},
   "outputs": [],
   "source": []
  }
 ],
 "metadata": {
  "kernelspec": {
   "display_name": "Python 3 (ipykernel)",
   "language": "python",
   "name": "python3"
  },
  "language_info": {
   "codemirror_mode": {
    "name": "ipython",
    "version": 3
   },
   "file_extension": ".py",
   "mimetype": "text/x-python",
   "name": "python",
   "nbconvert_exporter": "python",
   "pygments_lexer": "ipython3",
   "version": "3.9.23"
  }
 },
 "nbformat": 4,
 "nbformat_minor": 5
}
